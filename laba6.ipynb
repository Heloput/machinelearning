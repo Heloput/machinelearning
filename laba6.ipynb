{
  "nbformat": 4,
  "nbformat_minor": 0,
  "metadata": {
    "colab": {
      "provenance": [],
      "authorship_tag": "ABX9TyNSBJKv5iCJTFl2XxDwI+Xe",
      "include_colab_link": true
    },
    "kernelspec": {
      "name": "python3",
      "display_name": "Python 3"
    },
    "language_info": {
      "name": "python"
    }
  },
  "cells": [
    {
      "cell_type": "markdown",
      "metadata": {
        "id": "view-in-github",
        "colab_type": "text"
      },
      "source": [
        "<a href=\"https://colab.research.google.com/github/Heloput/machinelearning/blob/main/laba6.ipynb\" target=\"_parent\"><img src=\"https://colab.research.google.com/assets/colab-badge.svg\" alt=\"Open In Colab\"/></a>"
      ]
    },
    {
      "cell_type": "code",
      "execution_count": 9,
      "metadata": {
        "colab": {
          "base_uri": "https://localhost:8080/"
        },
        "id": "9t20E49hP84k",
        "outputId": "0133bf42-933f-41b1-a8f2-779b4c0c533e"
      },
      "outputs": [
        {
          "output_type": "stream",
          "name": "stdout",
          "text": [
            "--2024-12-25 19:35:26--  https://storage.googleapis.com/laurencemoroney-blog.appspot.com/sarcasm.json\n",
            "Resolving storage.googleapis.com (storage.googleapis.com)... 108.177.119.207, 108.177.127.207, 172.217.218.207, ...\n",
            "Connecting to storage.googleapis.com (storage.googleapis.com)|108.177.119.207|:443... connected.\n",
            "HTTP request sent, awaiting response... 404 Not Found\n",
            "2024-12-25 19:35:27 ERROR 404: Not Found.\n",
            "\n",
            "{'<OOV>': 1, 'my': 2, 'love': 3, 'dog': 4, 'you': 5, 'i': 6, 'do': 7, 'think': 8, 'is': 9, 'amazing': 10, 'cat': 11}\n",
            "[[5, 3, 2, 4], [7, 5, 8, 2, 4, 9, 10], [6, 3, 2, 11], [6, 3, 2, 4]]\n"
          ]
        }
      ],
      "source": [
        "!wget --no-check-certificate \\\n",
        "    https://storage.googleapis.com/laurencemoroney-blog.appspot.com/sarcasm.json \\\n",
        "    -O /tmp/sarcasm.json\n",
        "import tensorflow as tf\n",
        "import json\n",
        "with open(\"sarcasm.json\", 'r') as f:\n",
        "  datastore = json.load(f)\n",
        "\n",
        "sentences = []\n",
        "labels = []\n",
        "urls = []\n",
        "\n",
        "for item in datastore:\n",
        "  sentences.append(item['headline'])\n",
        "  labels.append(item['is_sarcastic'])\n",
        "  urls.append(item['article_link'])\n",
        "\n",
        "###\n",
        "#sentences = {\n",
        "  #  'i love my dog',\n",
        "  #  'i love my cat',\n",
        " #   'You love my dog!',\n",
        " #   'Do you think my dog is amazing?'\n",
        "#}\n",
        "\n",
        "tokenizer = tf.keras.preprocessing.text.Tokenizer(num_words = 1000, oov_token=\"<OOV>\")\n",
        "#tokenizer.fit_on_texts(sentences)\n",
        "tokenizer.fit_on_texts(datastore)\n",
        "word_index = tokenizer.word_index\n",
        "\n",
        "#sequences = tokenizer.texts_to_sequences(sentences)\n",
        "sequences = tokenizer.texts_to_sequences(datastore)\n",
        "padded = tf.keras.preprocessing.sequence.pad_sequences(sequences, padding='post')\n",
        "print(word_index)\n",
        "#print(sequences)\n",
        "print(datastore)\n",
        "print(datastore[0])  # Первая строка текста\n",
        "print(padded[0])  # Первая последовательность\n",
        "print(padded.shape)  # Размерность выровненных данных"
      ]
    }
  ]
}